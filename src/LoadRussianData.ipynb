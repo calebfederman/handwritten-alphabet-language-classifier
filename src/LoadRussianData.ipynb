{
  "nbformat": 4,
  "nbformat_minor": 0,
  "metadata": {
    "colab": {
      "provenance": []
    },
    "kernelspec": {
      "name": "python3",
      "display_name": "Python 3"
    },
    "language_info": {
      "name": "python"
    }
  },
  "cells": [
    {
      "cell_type": "code",
      "execution_count": null,
      "metadata": {
        "colab": {
          "base_uri": "https://localhost:8080/"
        },
        "id": "-Qo-oTJUD5Z7",
        "outputId": "46966d29-d44d-4d83-8ffa-6bfd278ab38b"
      },
      "outputs": [
        {
          "output_type": "stream",
          "name": "stdout",
          "text": [
            "Drive already mounted at /content/drive; to attempt to forcibly remount, call drive.mount(\"/content/drive\", force_remount=True).\n"
          ]
        }
      ],
      "source": [
        "import numpy as np\n",
        "from PIL import Image\n",
        "import zipfile\n",
        "import io\n",
        "from google.colab import drive\n",
        "from sklearn.model_selection import train_test_split\n",
        "drive.mount('/content/drive')\n",
        "import os\n",
        "from sklearn.preprocessing import OneHotEncoder\n",
        "import pandas as pd\n",
        "import cv2\n"
      ]
    },
    {
      "cell_type": "code",
      "source": [
        "zip_file_path = \"/content/drive/MyDrive/CS539: Handwritten Letter Language Classifier/data/raw/RussianData.zip\"\n",
        "with zipfile.ZipFile(zip_file_path, 'r') as zip_ref:\n",
        "    zip_ref.extractall('/content/russian_data')"
      ],
      "metadata": {
        "id": "1GZCtfqcD8-f"
      },
      "execution_count": null,
      "outputs": []
    },
    {
      "cell_type": "code",
      "source": [
        "df = pd.read_csv('/content/russian_data/all_letters_info.csv')\n",
        "base_path = '/content/russian_data/all_letters_image/all_letters_image/'"
      ],
      "metadata": {
        "id": "G0dHlU71WG__"
      },
      "execution_count": null,
      "outputs": []
    },
    {
      "cell_type": "code",
      "source": [
        "features = []\n",
        "labels = []\n",
        "\n",
        "for i, file in enumerate(df['file'].values):\n",
        "    image_path = base_path + file\n",
        "    image = Image.open(image_path)\n",
        "    image = image.convert('L').resize((28, 28))\n",
        "    image = np.array(image) / 255.0\n",
        "\n",
        "    features.append(np.array(image))\n",
        "    labels.append(df['label'][i])\n",
        "features = np.asarray(features)\n",
        "labels = np.asarray(labels)"
      ],
      "metadata": {
        "id": "tlXkTM5ubitF"
      },
      "execution_count": null,
      "outputs": []
    },
    {
      "cell_type": "code",
      "source": [
        "X = features.reshape(features.shape[0], 28, 28, 1)\n",
        "# one hot encoding map for languages\n",
        "language_map = {\n",
        "    'English': [1, 0, 0, 0],\n",
        "    'Greek': [0, 1, 0, 0],\n",
        "    'Russian': [0, 0, 1, 0],\n",
        "    'Arabic': [0, 0, 0, 1],\n",
        "}\n",
        "\n",
        "# All the data is English rn\n",
        "y = np.array([language_map['Russian'] for _ in range(len(features))])\n",
        "print(X.shape)\n",
        "print(y.shape)\n",
        "np.savez('/content/drive/MyDrive/CS539: Handwritten Letter Language Classifier/data/processed/RussianLanguage.npz', X=X, y=y)"
      ],
      "metadata": {
        "colab": {
          "base_uri": "https://localhost:8080/"
        },
        "id": "WPmxkIDgTPe9",
        "outputId": "8f13b134-687e-4d49-9b98-f6c6978e2ddf"
      },
      "execution_count": null,
      "outputs": [
        {
          "output_type": "stream",
          "name": "stdout",
          "text": [
            "(14190, 28, 28, 1)\n",
            "(14190, 4)\n"
          ]
        }
      ]
    },
    {
      "cell_type": "code",
      "source": [
        "encoder = OneHotEncoder(sparse_output=False)\n",
        "X_chars = np.array(features)\n",
        "X_chars = X.reshape(X.shape[0], 28, 28, 1)\n",
        "y_chars = np.array(labels)\n",
        "y_chars = np.array(labels).reshape(-1, 1)\n",
        "y_chars = encoder.fit_transform(y_chars)\n",
        "print(X_chars.shape)\n",
        "print(y_chars.shape)\n",
        "np.savez('/content/drive/MyDrive/CS539: Handwritten Letter Language Classifier/data/processed/RussianCharacters.npz', X=X_chars, y=y_chars)"
      ],
      "metadata": {
        "id": "2bzIsFwnWFex",
        "colab": {
          "base_uri": "https://localhost:8080/"
        },
        "outputId": "64738bed-2d47-4e25-f316-289166980c77"
      },
      "execution_count": null,
      "outputs": [
        {
          "output_type": "stream",
          "name": "stdout",
          "text": [
            "(14190, 28, 28, 1)\n",
            "(14190, 33)\n"
          ]
        }
      ]
    },
    {
      "cell_type": "code",
      "source": [],
      "metadata": {
        "id": "j6d4hGCCTQZc"
      },
      "execution_count": null,
      "outputs": []
    }
  ]
}